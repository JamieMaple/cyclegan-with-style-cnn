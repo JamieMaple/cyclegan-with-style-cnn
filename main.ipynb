{
  "nbformat": 4,
  "nbformat_minor": 0,
  "metadata": {
    "kernelspec": {
      "name": "python3",
      "display_name": "Python 3"
    },
    "language_info": {
      "codemirror_mode": {
        "name": "ipython",
        "version": 3
      },
      "file_extension": ".py",
      "mimetype": "text/x-python",
      "name": "python",
      "nbconvert_exporter": "python",
      "pygments_lexer": "ipython3",
      "version": "3.7.7"
    },
    "colab": {
      "name": "main.ipynb",
      "provenance": [],
      "collapsed_sections": []
    },
    "accelerator": "GPU"
  },
  "cells": [
    {
      "cell_type": "markdown",
      "metadata": {
        "id": "UhFGGH0FigCE",
        "colab_type": "text"
      },
      "source": [
        "## git"
      ]
    },
    {
      "cell_type": "code",
      "metadata": {
        "id": "RfFF_oWJ-o1v",
        "colab_type": "code",
        "outputId": "42bdeda5-cc84-4247-f85f-85085f2e8ad0",
        "colab": {
          "base_uri": "https://localhost:8080/",
          "height": 136
        }
      },
      "source": [
        "!git clone https://github.com/JamieMaple/cyclegan-with-style-cnn"
      ],
      "execution_count": 0,
      "outputs": [
        {
          "output_type": "stream",
          "text": [
            "Cloning into 'cyclegan-with-style-cnn'...\n",
            "remote: Enumerating objects: 1046, done.\u001b[K\n",
            "remote: Counting objects: 100% (1046/1046), done.\u001b[K\n",
            "remote: Compressing objects: 100% (1031/1031), done.\u001b[K\n",
            "remote: Total 1046 (delta 7), reused 1046 (delta 7), pack-reused 0\n",
            "Receiving objects: 100% (1046/1046), 3.85 MiB | 3.03 MiB/s, done.\n",
            "Resolving deltas: 100% (7/7), done.\n"
          ],
          "name": "stdout"
        }
      ]
    },
    {
      "cell_type": "code",
      "metadata": {
        "id": "97fYGC4C-24j",
        "colab_type": "code",
        "colab": {}
      },
      "source": [
        "import os\n",
        "os.chdir('/content/cyclegan-with-style-cnn')"
      ],
      "execution_count": 0,
      "outputs": []
    },
    {
      "cell_type": "markdown",
      "metadata": {
        "id": "cMNekwm-ilpt",
        "colab_type": "text"
      },
      "source": [
        "## 训练"
      ]
    },
    {
      "cell_type": "code",
      "metadata": {
        "id": "7ggWxvrq-o1y",
        "colab_type": "code",
        "outputId": "410dc37f-a2c7-418f-f381-ef32bf626fa3",
        "colab": {
          "base_uri": "https://localhost:8080/",
          "height": 527
        }
      },
      "source": [
        "!python main.py --training True --epochs 45 --decay_epoch 45"
      ],
      "execution_count": 0,
      "outputs": [
        {
          "output_type": "stream",
          "text": [
            "True\n",
            "Training\n",
            "Network initialized with weights sampled from N(0,0.02).\n",
            "/content/cyclegan-with-style-cnn/arch/ops.py:19: UserWarning: nn.init.normal is now deprecated in favor of nn.init.normal_.\n",
            "  init.normal(m.weight.data, 0.0, gain)\n",
            "/content/cyclegan-with-style-cnn/arch/ops.py:21: UserWarning: nn.init.constant is now deprecated in favor of nn.init.constant_.\n",
            "  init.constant(m.bias.data, 0.0)\n",
            "Network initialized with weights sampled from N(0,0.02).\n",
            "Network initialized with weights sampled from N(0,0.02).\n",
            "Network initialized with weights sampled from N(0,0.02).\n",
            "------------Number of Parameters---------------\n",
            "[Network Gab] Total number of parameters : 11.378 M\n",
            "[Network Gba] Total number of parameters : 11.378 M\n",
            "[Network Da] Total number of parameters : 2.765 M\n",
            "[Network Db] Total number of parameters : 2.765 M\n",
            "-----------------------------------------------\n",
            "Traceback (most recent call last):\n",
            "  File \"main.py\", line 59, in <module>\n",
            "    main()\n",
            "  File \"main.py\", line 51, in main\n",
            "    model = md.cycleGAN(args)\n",
            "  File \"/content/cyclegan-with-style-cnn/model.py\", line 45, in __init__\n",
            "    self.g_lr_scheduler = torch.optim.lr_scheduler.LambdaLR(self.g_optimizer, lr_lambda=utils.LambdaLR(args.epochs, 0, args.decay_epoch).step)\n",
            "  File \"/usr/local/lib/python3.6/dist-packages/torch/optim/lr_scheduler.py\", line 189, in __init__\n",
            "    super(LambdaLR, self).__init__(optimizer, last_epoch)\n",
            "  File \"/usr/local/lib/python3.6/dist-packages/torch/optim/lr_scheduler.py\", line 77, in __init__\n",
            "    self.step()\n",
            "  File \"/usr/local/lib/python3.6/dist-packages/torch/optim/lr_scheduler.py\", line 150, in step\n",
            "    for param_group, lr in zip(self.optimizer.param_groups, values):\n",
            "UnboundLocalError: local variable 'values' referenced before assignment\n"
          ],
          "name": "stdout"
        }
      ]
    },
    {
      "cell_type": "code",
      "metadata": {
        "id": "y_4yrQfI-6KM",
        "colab_type": "code",
        "colab": {}
      },
      "source": [
        "!rm -r ./checkpoints/"
      ],
      "execution_count": 0,
      "outputs": []
    },
    {
      "cell_type": "code",
      "metadata": {
        "id": "j7GaZxMg-_mp",
        "colab_type": "code",
        "outputId": "7c393847-7319-402e-d643-530450e407b4",
        "colab": {
          "base_uri": "https://localhost:8080/",
          "height": 34
        }
      },
      "source": [
        "!pwd"
      ],
      "execution_count": 0,
      "outputs": [
        {
          "output_type": "stream",
          "text": [
            "/content/cyclegan-with-style-cnn\n"
          ],
          "name": "stdout"
        }
      ]
    },
    {
      "cell_type": "code",
      "metadata": {
        "id": "ZcSnuwq-JW3w",
        "colab_type": "code",
        "outputId": "18009255-b214-48a9-fd14-dcae9a4ca950",
        "colab": {
          "base_uri": "https://localhost:8080/",
          "height": 272
        }
      },
      "source": [
        "!git config --global user.email \"jamiemaple007@gmail.com\"\n",
        "!git config --global user.name \"maple\"\n",
        "!git add .\n",
        "!git commit -m \"train\""
      ],
      "execution_count": 0,
      "outputs": [
        {
          "output_type": "stream",
          "text": [
            "[master cdd3eea] train\n",
            " 13 files changed, 4 insertions(+)\n",
            " create mode 100644 __pycache__/model.cpython-36.pyc\n",
            " create mode 100644 __pycache__/test.cpython-36.pyc\n",
            " create mode 100644 __pycache__/utils.cpython-36.pyc\n",
            " create mode 100644 __pycache__/vgg.cpython-36.pyc\n",
            " create mode 100644 arch/__pycache__/__init__.cpython-36.pyc\n",
            " create mode 100644 arch/__pycache__/discriminators.cpython-36.pyc\n",
            " create mode 100644 arch/__pycache__/generators.cpython-36.pyc\n",
            " create mode 100644 arch/__pycache__/ops.cpython-36.pyc\n",
            " create mode 100644 checkpoints/fonts/latest.ckpt\n",
            " create mode 120000 datasets/horse2zebra/ltestA/Link\n",
            " create mode 120000 datasets/horse2zebra/ltestB/Link\n",
            " create mode 120000 datasets/horse2zebra/ltrainA/Link\n",
            " create mode 120000 datasets/horse2zebra/ltrainB/Link\n"
          ],
          "name": "stdout"
        }
      ]
    },
    {
      "cell_type": "code",
      "metadata": {
        "id": "2ETxM82IJaLZ",
        "colab_type": "code",
        "outputId": "7be1223d-ed93-4180-c711-e8d9aa772e39",
        "colab": {
          "base_uri": "https://localhost:8080/",
          "height": 51
        }
      },
      "source": [
        "!git remote -vv"
      ],
      "execution_count": 0,
      "outputs": [
        {
          "output_type": "stream",
          "text": [
            "origin\thttps://github.com/JamieMaple/cyclegan-with-style-cnn (fetch)\n",
            "origin\thttps://github.com/JamieMaple/cyclegan-with-style-cnn (push)\n"
          ],
          "name": "stdout"
        }
      ]
    },
    {
      "cell_type": "code",
      "metadata": {
        "id": "iXwNwdubJ17Z",
        "colab_type": "code",
        "outputId": "30bb2a87-6d70-4a9c-aec7-21cc4d665413",
        "colab": {
          "base_uri": "https://localhost:8080/",
          "height": 34
        }
      },
      "source": [
        "!git push origin master"
      ],
      "execution_count": 0,
      "outputs": [
        {
          "output_type": "stream",
          "text": [
            "fatal: could not read Username for 'https://github.com': No such device or address\n"
          ],
          "name": "stdout"
        }
      ]
    },
    {
      "cell_type": "code",
      "metadata": {
        "id": "1d8ticC4J6io",
        "colab_type": "code",
        "outputId": "0b1037f0-412d-4b55-eede-b49919a85668",
        "colab": {
          "base_uri": "https://localhost:8080/",
          "height": 68
        }
      },
      "source": [
        "!zip -r ckpt.zip ./checkpoints"
      ],
      "execution_count": 0,
      "outputs": [
        {
          "output_type": "stream",
          "text": [
            "  adding: checkpoints/ (stored 0%)\n",
            "  adding: checkpoints/fonts/ (stored 0%)\n",
            "  adding: checkpoints/fonts/latest.ckpt (deflated 7%)\n"
          ],
          "name": "stdout"
        }
      ]
    },
    {
      "cell_type": "markdown",
      "metadata": {
        "id": "P_ZUkiyDiZ3x",
        "colab_type": "text"
      },
      "source": [
        "## 挂载"
      ]
    },
    {
      "cell_type": "code",
      "metadata": {
        "id": "mC-0jWhTij-j",
        "colab_type": "code",
        "outputId": "cbac46b9-3998-4fbf-f1ed-4cb3789eed3b",
        "colab": {
          "base_uri": "https://localhost:8080/",
          "height": 122
        }
      },
      "source": [
        "from google.colab import drive\n",
        "drive.mount('/content/drive')"
      ],
      "execution_count": 0,
      "outputs": [
        {
          "output_type": "stream",
          "text": [
            "Go to this URL in a browser: https://accounts.google.com/o/oauth2/auth?client_id=947318989803-6bn6qk8qdgf4n4g3pfee6491hc0brc4i.apps.googleusercontent.com&redirect_uri=urn%3aietf%3awg%3aoauth%3a2.0%3aoob&response_type=code&scope=email%20https%3a%2f%2fwww.googleapis.com%2fauth%2fdocs.test%20https%3a%2f%2fwww.googleapis.com%2fauth%2fdrive%20https%3a%2f%2fwww.googleapis.com%2fauth%2fdrive.photos.readonly%20https%3a%2f%2fwww.googleapis.com%2fauth%2fpeopleapi.readonly\n",
            "\n",
            "Enter your authorization code:\n",
            "··········\n",
            "Mounted at /content/drive\n"
          ],
          "name": "stdout"
        }
      ]
    }
  ]
}
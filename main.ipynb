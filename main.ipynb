{
 "cells": [
  {
   "cell_type": "markdown",
   "metadata": {
    "colab_type": "text",
    "id": "UhFGGH0FigCE"
   },
   "source": [
    "## git"
   ]
  },
  {
   "cell_type": "code",
   "execution_count": 0,
   "metadata": {
    "colab": {
     "base_uri": "https://localhost:8080/",
     "height": 136
    },
    "colab_type": "code",
    "id": "RfFF_oWJ-o1v",
    "outputId": "42bdeda5-cc84-4247-f85f-85085f2e8ad0"
   },
   "outputs": [
    {
     "name": "stdout",
     "output_type": "stream",
     "text": [
      "Cloning into 'cyclegan-with-style-cnn'...\n",
      "remote: Enumerating objects: 1046, done.\u001b[K\n",
      "remote: Counting objects: 100% (1046/1046), done.\u001b[K\n",
      "remote: Compressing objects: 100% (1031/1031), done.\u001b[K\n",
      "remote: Total 1046 (delta 7), reused 1046 (delta 7), pack-reused 0\n",
      "Receiving objects: 100% (1046/1046), 3.85 MiB | 3.03 MiB/s, done.\n",
      "Resolving deltas: 100% (7/7), done.\n"
     ]
    }
   ],
   "source": [
    "!git clone https://github.com/JamieMaple/cyclegan-with-style-cnn"
   ]
  },
  {
   "cell_type": "code",
   "execution_count": 0,
   "metadata": {
    "colab": {},
    "colab_type": "code",
    "id": "97fYGC4C-24j"
   },
   "outputs": [],
   "source": [
    "import os\n",
    "os.chdir('/content/cyclegan-with-style-cnn')"
   ]
  },
  {
   "cell_type": "markdown",
   "metadata": {
    "colab_type": "text",
    "id": "cMNekwm-ilpt"
   },
   "source": [
    "## 训练"
   ]
  },
  {
   "cell_type": "code",
   "execution_count": 0,
   "metadata": {
    "colab": {
     "base_uri": "https://localhost:8080/",
     "height": 527
    },
    "colab_type": "code",
    "id": "7ggWxvrq-o1y",
    "outputId": "410dc37f-a2c7-418f-f381-ef32bf626fa3"
   },
   "outputs": [
    {
     "name": "stdout",
     "output_type": "stream",
     "text": [
      "True\n",
      "Training\n",
      "Network initialized with weights sampled from N(0,0.02).\n",
      "/content/cyclegan-with-style-cnn/arch/ops.py:19: UserWarning: nn.init.normal is now deprecated in favor of nn.init.normal_.\n",
      "  init.normal(m.weight.data, 0.0, gain)\n",
      "/content/cyclegan-with-style-cnn/arch/ops.py:21: UserWarning: nn.init.constant is now deprecated in favor of nn.init.constant_.\n",
      "  init.constant(m.bias.data, 0.0)\n",
      "Network initialized with weights sampled from N(0,0.02).\n",
      "Network initialized with weights sampled from N(0,0.02).\n",
      "Network initialized with weights sampled from N(0,0.02).\n",
      "------------Number of Parameters---------------\n",
      "[Network Gab] Total number of parameters : 11.378 M\n",
      "[Network Gba] Total number of parameters : 11.378 M\n",
      "[Network Da] Total number of parameters : 2.765 M\n",
      "[Network Db] Total number of parameters : 2.765 M\n",
      "-----------------------------------------------\n",
      "Traceback (most recent call last):\n",
      "  File \"main.py\", line 59, in <module>\n",
      "    main()\n",
      "  File \"main.py\", line 51, in main\n",
      "    model = md.cycleGAN(args)\n",
      "  File \"/content/cyclegan-with-style-cnn/model.py\", line 45, in __init__\n",
      "    self.g_lr_scheduler = torch.optim.lr_scheduler.LambdaLR(self.g_optimizer, lr_lambda=utils.LambdaLR(args.epochs, 0, args.decay_epoch).step)\n",
      "  File \"/usr/local/lib/python3.6/dist-packages/torch/optim/lr_scheduler.py\", line 189, in __init__\n",
      "    super(LambdaLR, self).__init__(optimizer, last_epoch)\n",
      "  File \"/usr/local/lib/python3.6/dist-packages/torch/optim/lr_scheduler.py\", line 77, in __init__\n",
      "    self.step()\n",
      "  File \"/usr/local/lib/python3.6/dist-packages/torch/optim/lr_scheduler.py\", line 150, in step\n",
      "    for param_group, lr in zip(self.optimizer.param_groups, values):\n",
      "UnboundLocalError: local variable 'values' referenced before assignment\n"
     ]
    }
   ],
   "source": [
    "!python main.py --training True --epochs 45 --decay_epoch 45"
   ]
  },
  {
   "cell_type": "code",
   "execution_count": 0,
   "metadata": {
    "colab": {},
    "colab_type": "code",
    "id": "y_4yrQfI-6KM"
   },
   "outputs": [],
   "source": [
    "!rm -r ./checkpoints/"
   ]
  },
  {
   "cell_type": "code",
   "execution_count": 0,
   "metadata": {
    "colab": {
     "base_uri": "https://localhost:8080/",
     "height": 34
    },
    "colab_type": "code",
    "id": "j7GaZxMg-_mp",
    "outputId": "7c393847-7319-402e-d643-530450e407b4"
   },
   "outputs": [
    {
     "name": "stdout",
     "output_type": "stream",
     "text": [
      "/content/cyclegan-with-style-cnn\n"
     ]
    }
   ],
   "source": [
    "!pwd"
   ]
  },
  {
   "cell_type": "code",
   "execution_count": 0,
   "metadata": {
    "colab": {
     "base_uri": "https://localhost:8080/",
     "height": 272
    },
    "colab_type": "code",
    "id": "ZcSnuwq-JW3w",
    "outputId": "18009255-b214-48a9-fd14-dcae9a4ca950"
   },
   "outputs": [
    {
     "name": "stdout",
     "output_type": "stream",
     "text": [
      "[master cdd3eea] train\n",
      " 13 files changed, 4 insertions(+)\n",
      " create mode 100644 __pycache__/model.cpython-36.pyc\n",
      " create mode 100644 __pycache__/test.cpython-36.pyc\n",
      " create mode 100644 __pycache__/utils.cpython-36.pyc\n",
      " create mode 100644 __pycache__/vgg.cpython-36.pyc\n",
      " create mode 100644 arch/__pycache__/__init__.cpython-36.pyc\n",
      " create mode 100644 arch/__pycache__/discriminators.cpython-36.pyc\n",
      " create mode 100644 arch/__pycache__/generators.cpython-36.pyc\n",
      " create mode 100644 arch/__pycache__/ops.cpython-36.pyc\n",
      " create mode 100644 checkpoints/fonts/latest.ckpt\n",
      " create mode 120000 datasets/horse2zebra/ltestA/Link\n",
      " create mode 120000 datasets/horse2zebra/ltestB/Link\n",
      " create mode 120000 datasets/horse2zebra/ltrainA/Link\n",
      " create mode 120000 datasets/horse2zebra/ltrainB/Link\n"
     ]
    }
   ],
   "source": [
    "!git config --global user.email \"jamiemaple007@gmail.com\"\n",
    "!git config --global user.name \"maple\"\n",
    "!git add .\n",
    "!git commit -m \"train\""
   ]
  },
  {
   "cell_type": "code",
   "execution_count": 0,
   "metadata": {
    "colab": {
     "base_uri": "https://localhost:8080/",
     "height": 51
    },
    "colab_type": "code",
    "id": "2ETxM82IJaLZ",
    "outputId": "7be1223d-ed93-4180-c711-e8d9aa772e39"
   },
   "outputs": [
    {
     "name": "stdout",
     "output_type": "stream",
     "text": [
      "origin\thttps://github.com/JamieMaple/cyclegan-with-style-cnn (fetch)\n",
      "origin\thttps://github.com/JamieMaple/cyclegan-with-style-cnn (push)\n"
     ]
    }
   ],
   "source": [
    "!git remote -vv"
   ]
  },
  {
   "cell_type": "code",
   "execution_count": 0,
   "metadata": {
    "colab": {
     "base_uri": "https://localhost:8080/",
     "height": 34
    },
    "colab_type": "code",
    "id": "iXwNwdubJ17Z",
    "outputId": "30bb2a87-6d70-4a9c-aec7-21cc4d665413"
   },
   "outputs": [
    {
     "name": "stdout",
     "output_type": "stream",
     "text": [
      "fatal: could not read Username for 'https://github.com': No such device or address\n"
     ]
    }
   ],
   "source": [
    "!git push origin master"
   ]
  },
  {
   "cell_type": "code",
   "execution_count": 0,
   "metadata": {
    "colab": {
     "base_uri": "https://localhost:8080/",
     "height": 68
    },
    "colab_type": "code",
    "id": "1d8ticC4J6io",
    "outputId": "0b1037f0-412d-4b55-eede-b49919a85668"
   },
   "outputs": [
    {
     "name": "stdout",
     "output_type": "stream",
     "text": [
      "  adding: checkpoints/ (stored 0%)\n",
      "  adding: checkpoints/fonts/ (stored 0%)\n",
      "  adding: checkpoints/fonts/latest.ckpt (deflated 7%)\n"
     ]
    }
   ],
   "source": [
    "!zip -r ckpt.zip ./checkpoints"
   ]
  },
  {
   "cell_type": "markdown",
   "metadata": {
    "colab_type": "text",
    "id": "P_ZUkiyDiZ3x"
   },
   "source": [
    "## 挂载"
   ]
  },
  {
   "cell_type": "code",
   "execution_count": 0,
   "metadata": {
    "colab": {
     "base_uri": "https://localhost:8080/",
     "height": 122
    },
    "colab_type": "code",
    "id": "mC-0jWhTij-j",
    "outputId": "cbac46b9-3998-4fbf-f1ed-4cb3789eed3b"
   },
   "outputs": [
    {
     "name": "stdout",
     "output_type": "stream",
     "text": [
      "Go to this URL in a browser: https://accounts.google.com/o/oauth2/auth?client_id=947318989803-6bn6qk8qdgf4n4g3pfee6491hc0brc4i.apps.googleusercontent.com&redirect_uri=urn%3aietf%3awg%3aoauth%3a2.0%3aoob&response_type=code&scope=email%20https%3a%2f%2fwww.googleapis.com%2fauth%2fdocs.test%20https%3a%2f%2fwww.googleapis.com%2fauth%2fdrive%20https%3a%2f%2fwww.googleapis.com%2fauth%2fdrive.photos.readonly%20https%3a%2f%2fwww.googleapis.com%2fauth%2fpeopleapi.readonly\n",
      "\n",
      "Enter your authorization code:\n",
      "··········\n",
      "Mounted at /content/drive\n"
     ]
    }
   ],
   "source": [
    "from google.colab import drive\n",
    "drive.mount('/content/drive')"
   ]
  },
  {
   "cell_type": "code",
   "execution_count": 1,
   "metadata": {},
   "outputs": [],
   "source": [
    "import vgg"
   ]
  },
  {
   "cell_type": "code",
   "execution_count": 5,
   "metadata": {},
   "outputs": [],
   "source": [
    "vgg.draw_vgg()"
   ]
  },
  {
   "cell_type": "code",
   "execution_count": 8,
   "metadata": {},
   "outputs": [
    {
     "data": {
      "image/svg+xml": [
       "<?xml version=\"1.0\" encoding=\"UTF-8\" standalone=\"no\"?>\n",
       "<!DOCTYPE svg PUBLIC \"-//W3C//DTD SVG 1.1//EN\"\n",
       " \"http://www.w3.org/Graphics/SVG/1.1/DTD/svg11.dtd\">\n",
       "<!-- Generated by graphviz version 2.42.3 (20191010.1750)\n",
       " -->\n",
       "<!-- Title: %3 Pages: 1 -->\n",
       "<svg width=\"74pt\" height=\"28pt\"\n",
       " viewBox=\"0.00 0.00 73.81 28.00\" xmlns=\"http://www.w3.org/2000/svg\" xmlns:xlink=\"http://www.w3.org/1999/xlink\">\n",
       "<g id=\"graph0\" class=\"graph\" transform=\"scale(1 1) rotate(0) translate(4 24)\">\n",
       "<title>%3</title>\n",
       "<polygon fill=\"white\" stroke=\"transparent\" points=\"-4,4 -4,-24 69.81,-24 69.81,4 -4,4\"/>\n",
       "<!-- 4539280824 -->\n",
       "<g id=\"node1\" class=\"node\">\n",
       "<title>4539280824</title>\n",
       "<polygon fill=\"#caff70\" stroke=\"black\" points=\"65.72,-20 0.09,-20 0.09,0 65.72,0 65.72,-20\"/>\n",
       "<text text-anchor=\"middle\" x=\"32.91\" y=\"-6.4\" font-family=\"Times,serif\" font-size=\"12.00\">NoneType</text>\n",
       "</g>\n",
       "</g>\n",
       "</svg>\n"
      ],
      "text/plain": [
       "<graphviz.dot.Digraph at 0x138a05ed0>"
      ]
     },
     "execution_count": 8,
     "metadata": {},
     "output_type": "execute_result"
    }
   ],
   "source": [
    "\n",
    "import torch\n",
    "from torch import nn\n",
    "from torchviz import make_dot, make_dot_from_trace\n",
    "\n",
    "model = vgg.vgg\n",
    "\n",
    "x = torch.randn(1, 3, 256, 256)\n",
    "\n",
    "make_dot(model(x), params=dict(model.named_parameters()))"
   ]
  },
  {
   "cell_type": "code",
   "execution_count": null,
   "metadata": {},
   "outputs": [],
   "source": []
  }
 ],
 "metadata": {
  "accelerator": "GPU",
  "colab": {
   "collapsed_sections": [],
   "name": "main.ipynb",
   "provenance": []
  },
  "kernelspec": {
   "display_name": "Python 3",
   "language": "python",
   "name": "python3"
  },
  "language_info": {
   "codemirror_mode": {
    "name": "ipython",
    "version": 3
   },
   "file_extension": ".py",
   "mimetype": "text/x-python",
   "name": "python",
   "nbconvert_exporter": "python",
   "pygments_lexer": "ipython3",
   "version": "3.7.7"
  }
 },
 "nbformat": 4,
 "nbformat_minor": 1
}
